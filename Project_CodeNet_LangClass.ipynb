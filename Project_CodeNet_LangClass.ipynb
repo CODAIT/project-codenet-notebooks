{
 "cells": [
  {
   "cell_type": "markdown",
   "metadata": {
    "id": "Zmw-nFX6Q_T7"
   },
   "source": [
    "# Project CodeNet Language Classification\n",
    "\n",
    "## Introduction\n",
    "\n",
    "This notebook takes you through the steps of a simple experiment that shows\n",
    "how to create and exercise a Keras model to detect the language of a piece of\n",
    "source code. We will be using TensorFlow as its backend.\n",
    "For convenience, all the necessary steps will be in this single notebook.\n",
    "One might want to factor out some parts and put them in separate Python files\n",
    "for training, testing and inference.\n",
    "\n",
    "Let's start with a few obligatory imports:"
   ]
  },
  {
   "cell_type": "code",
   "execution_count": 1,
   "metadata": {
    "id": "AdZRI-dTRLhk"
   },
   "outputs": [],
   "source": [
    "import os\n",
    "import numpy as np\n",
    "import re\n",
    "import requests\n",
    "import tarfile\n",
    "import shutil"
   ]
  },
  {
   "cell_type": "markdown",
   "metadata": {
    "id": "jJ6feP0BRQdO"
   },
   "source": [
    "## Approach\n",
    "\n",
    "Classification means determining the class a given sample belongs to. In our\n",
    "case we want to determine the programming language in which a given piece code\n",
    "is written. There are many different ways of solving this problem. Here we\n",
    "choose a neural network approach where we train a convolutional model to do\n",
    "our bidding. The input will be a sample of source code and the output is an\n",
    "indication of its language.\n",
    "\n",
    "We will treat the input at the character level. We will assume that the input\n",
    "source file is mostly ASCII characters and the input to the neural network is\n",
    "an encoding of a small, fixed set of characters."
   ]
  },
  {
   "cell_type": "code",
   "execution_count": 2,
   "metadata": {
    "colab": {
     "base_uri": "https://localhost:8080/"
    },
    "id": "-nrFdl8GRZZs",
    "outputId": "b213803b-9493-4e53-d591-ad572eb934a4"
   },
   "outputs": [
    {
     "name": "stdout",
     "output_type": "stream",
     "text": [
      "alphabet size: 68\n",
      "one-hot encoding for character c: [0, 0, 1, 0, 0, 0, 0, 0, 0, 0, 0, 0, 0, 0, 0, 0, 0, 0, 0, 0, 0, 0, 0, 0, 0, 0, 0, 0, 0, 0, 0, 0, 0, 0, 0, 0, 0, 0, 0, 0, 0, 0, 0, 0, 0, 0, 0, 0, 0, 0, 0, 0, 0, 0, 0, 0, 0, 0, 0, 0, 0, 0, 0, 0, 0, 0, 0, 0]\n"
     ]
    }
   ],
   "source": [
    "letter = 'abcdefghijklmnopqrstuvwxyz'\n",
    "digits = '0123456789'\n",
    "others = '!\"#$%&\\'()*+,-./:;<=>?@[\\\\]^_`{|}~'\n",
    "alphabet = letter + digits + others\n",
    "print('alphabet size:', len(alphabet))\n",
    "\n",
    "# all-zeroes padding vector:\n",
    "pad_vector = [0 for x in alphabet]\n",
    "\n",
    "# pre-calculated one-hot vectors:\n",
    "supported_chars_map = {}\n",
    "\n",
    "for i, ch in enumerate(alphabet):\n",
    "  vec = [0 for x in alphabet]\n",
    "  vec[i] = 1\n",
    "  supported_chars_map[ch] = vec\n",
    "\n",
    "print('one-hot encoding for character c:', supported_chars_map['c'])"
   ]
  },
  {
   "cell_type": "markdown",
   "metadata": {
    "id": "V3CtDPm-Rt8y"
   },
   "source": [
    "## Data\n",
    "\n",
    "For simplicity and to keep the (training) run-time within reasonable bounds, we\n",
    "use a selection of source files from Project CodeNet written in 10 different\n",
    "languages. For each language we select a 100 files of a size of at least 1000\n",
    "bytes but no larger than 5000 bytes. For each language, 10 files out the 100\n",
    "are set aside for testing the model.\n",
    "\n",
    "### Download and extract\n",
    "\n",
    "\n",
    "The data is available as a gzipped tar file `Project_CodeNet_Sample.tgz`.\n",
    "The directory structure is `data/train/<language>/<source>` and\n",
    "`data/test/<language>/<source>`. Let's download the data and store it on the\n",
    "local filesystem:"
   ]
  },
  {
   "cell_type": "code",
   "execution_count": 3,
   "metadata": {},
   "outputs": [],
   "source": [
    "file_name = \"Project_CodeNet_Sample.tgz\"\n",
    "data_url = f\"https://dax-cdn.cdn.appdomain.cloud/dax-codenet/1.0.0/{file_name}\"\n",
    "\n",
    "# Download tar archive to local disk\n",
    "with open(file_name, \"wb\") as f:\n",
    "    f.write(requests.get(data_url).content)\n",
    "    \n",
    "# Extract contents of archive to local disk\n",
    "if os.path.exists(\"data\"):\n",
    "    shutil.rmtree(\"data\")\n",
    "with tarfile.open(file_name) as tf:\n",
    "    tf.extractall()"
   ]
  },
  {
   "cell_type": "code",
   "execution_count": 4,
   "metadata": {
    "colab": {
     "base_uri": "https://localhost:8080/"
    },
    "id": "jyA0CQwaSZlB",
    "outputId": "c83ad084-4c22-41b2-82bb-3fb9d0cc3722"
   },
   "outputs": [
    {
     "name": "stdout",
     "output_type": "stream",
     "text": [
      "data:\n",
      "\u001b[34mtest\u001b[m\u001b[m  \u001b[34mtrain\u001b[m\u001b[m\n",
      "\n",
      "data/train:\n",
      "\u001b[34mC\u001b[m\u001b[m          \u001b[34mC++\u001b[m\u001b[m        \u001b[34mHaskell\u001b[m\u001b[m    \u001b[34mJavaScript\u001b[m\u001b[m \u001b[34mPython\u001b[m\u001b[m\n",
      "\u001b[34mC#\u001b[m\u001b[m         \u001b[34mD\u001b[m\u001b[m          \u001b[34mJava\u001b[m\u001b[m       \u001b[34mPHP\u001b[m\u001b[m        \u001b[34mRust\u001b[m\u001b[m\n"
     ]
    }
   ],
   "source": [
    "!ls data data/train"
   ]
  },
  {
   "cell_type": "markdown",
   "metadata": {
    "id": "CEwZLbmoqIHJ"
   },
   "source": [
    "The 10 programming languages are C, C#, C++, D, Haskell, Java, JavaScript, PHP,\n",
    "Python, and Rust. Note that some languages belong to the same family: C, C++,\n",
    "and D are very close in lexical elements and syntax."
   ]
  },
  {
   "cell_type": "code",
   "execution_count": 5,
   "metadata": {
    "id": "SV4SN7rbqNJn"
   },
   "outputs": [],
   "source": [
    "langs = [\n",
    "  \"C\",\n",
    "  \"C#\",\n",
    "  \"C++\",\n",
    "  \"D\",\n",
    "  \"Haskell\",\n",
    "  \"Java\",\n",
    "  \"JavaScript\",\n",
    "  \"PHP\",\n",
    "  \"Python\",\n",
    "  \"Rust\"\n",
    "]\n",
    "\n",
    "num_classes = len(langs)"
   ]
  },
  {
   "cell_type": "markdown",
   "metadata": {
    "id": "RkC-R_EhiUy6"
   },
   "source": [
    "### Read a file and create samples\n",
    "\n",
    "Since the source files are of varying size and we want fixed length samples,\n",
    "simply truncating each file might bias the training to artifacts that\n",
    "typically only appear at the beginning of a file, such as copyrights statements\n",
    "and documentation or class and type definitions. We would probably get more\n",
    "interesting samples when we chunk each file. Here we split each file in 3\n",
    "parts based on the number of lines. Only then the parts will be truncated or\n",
    "padded as needed. This means that the number of samples is no longer equal to\n",
    "the number of files but up to 3 times as large."
   ]
  },
  {
   "cell_type": "code",
   "execution_count": 6,
   "metadata": {
    "id": "u_jqGu9kijOD"
   },
   "outputs": [],
   "source": [
    "def get_source_snippets(file_name, breakup=True):\n",
    "  # Read the file content and lower-case:                                    \n",
    "  text = \"\"\n",
    "  with open(file_name, mode='r') as file:\n",
    "    text = file.read().lower()\n",
    "  lines = text.split('\\n')\n",
    "  nlines = len(lines)\n",
    "  if breakup and nlines > 50:\n",
    "    aThird = nlines//3\n",
    "    twoThirds = 2*aThird\n",
    "    text1 = '\\n'.join(lines[:aThird])\n",
    "    text2 = '\\n'.join(lines[aThird:twoThirds])\n",
    "    text3 = '\\n'.join(lines[twoThirds:])\n",
    "    return [text1, text2, text3]\n",
    "  return [text]"
   ]
  },
  {
   "cell_type": "markdown",
   "metadata": {
    "id": "JfhfLArikc26"
   },
   "source": [
    "To see the effect of `get_source_snippets` let's run it on a single train file:"
   ]
  },
  {
   "cell_type": "code",
   "execution_count": 7,
   "metadata": {
    "colab": {
     "base_uri": "https://localhost:8080/"
    },
    "id": "JuxCC8LOkykd",
    "outputId": "2556ccc9-1579-4b7e-a077-e84226935ae4"
   },
   "outputs": [
    {
     "data": {
      "text/plain": [
       "['import control.applicative\\nimport control.monad\\nimport control.monad.st\\n-- import qualified data.bytestring as bs\\nimport data.functor\\nimport data.function\\nimport data.monoid\\nimport data.maybe\\nimport data.list\\nimport qualified data.foldable as foldable\\nimport qualified data.set as set\\n--import qualified data.sequence as sequence\\nimport data.list.split\\nimport data.bits\\nimport data.char\\nimport data.ix\\nimport data.ratio\\nimport data.ord\\nimport data.tuple\\nimport data.array\\n--import data.array.unboxed\\n--import data.array.iarray\\nimport data.array.marray\\nimport data.array.io\\nimport data.array.st\\nimport data.ioref\\nimport data.stref\\nimport text.printf\\nimport ghc.st',\n",
       " \"-- import system.io.unsafe\\n \\n-- templete\\nreadint = read :: string -> int\\nreadinteger = read :: string -> integer\\nreaddouble = read :: string -> double\\ngetint = readln :: io int\\ngetints = map readint . words <$> getline\\ngetinteger = readln :: io integer\\ngetintegers = map readinteger . words <$> getline\\ngetdouble = readln :: io double\\ngetdoubles = map readdouble . words <$> getline\\nsjoin :: (show a) => [a] -> string\\nsjoin = unwords . map show\\ntjoin :: (show a, show b) => (a, b) -> string\\ntjoin (x, y) = show x ++ (' ' : show y)\\ncond :: a -> a -> bool -> a\\ncond t f c = if c then t else f\\napply2 :: (a -> a -> b) -> [a] -> b\\napply2 f [x,y] = f x y\\napply3 :: (a -> a -> a -> b) -> [a] -> b\\napply3 f [x,y,z] = f x y z\\napply4 :: (a -> a -> a -> a -> b) -> [a] -> b\\napply4 f [x,y,z,w] = f x y z w\\nfntuple :: (a -> b, a -> c) -> a -> (b, c)\\nfntuple (f,g) a = (f a, g a)\\nreplace :: (eq a) => a -> a -> [a] -> [a]\\nreplace x y = map (\\\\z -> if z==x then y else z)\\nbinmap :: (a -> a -> b) -> [a] -> [b]\",\n",
       " 'binmap f (x:xs@(y:_)) = f x y : binmap f xs\\nbinmap _ _ = []\\nsplitrec :: int -> [a] -> [[a]]\\nsplitrec _ [] = []\\nsplitrec n xs = let (y,ys) = splitat n xs in y : splitrec n ys\\ninfixl 7 `divceil`\\ndivceil :: integral a => a -> a -> a\\nx `divceil` y = (x+y-1) `div` y\\ncoverc :: ord a => (a, a) -> a -> bool\\ncoverc (l,r) x = l<=x && x<=r\\ncoverh :: ord a => (a, a) -> a -> bool\\ncoverh (l,r) x = l<=x && x<r\\nibsearch :: (int -> bool) -> (int,int) -> int\\nibsearch f (ok,ng) = if abs (ok-ng) <= 1 then ok else let mid = (ok + ng) `div` 2 in ibsearch f (if f mid then (mid,ng) else (ok,mid))\\nwhenm :: monad m => m bool -> m () -> m ()\\nwhenm c a = c >>= flip when a\\nunconsu :: [a] -> (a, [a])\\nunconsu (x:xs) = (x, xs)\\n-- templete\\n\\nlinev (x1,y1) (x2,y2) (x,y) = (y2-y1)*x - (x2-x1)*y - x1*y2 + x2*y1\\n\\nf p1 p2 p3 p = f1 p1 * f1 p > 0 && f2 p2 * f2 p > 0 && f3 p3 * f3 p > 0\\n  where\\n    f1 = linev p2 p3\\n    f2 = linev p3 p1\\n    f3 = linev p1 p2\\n\\nmain = map (map (apply2 (,)) . splitrec 2 . map readdouble . words) . lines <$> getcontents >>= mapm_ (putstrln . cond \"yes\" \"no\" . apply4 f)\\n    \\n']"
      ]
     },
     "execution_count": 7,
     "metadata": {},
     "output_type": "execute_result"
    }
   ],
   "source": [
    "get_source_snippets('data/train/Haskell/s084836192.hs', breakup=True)"
   ]
  },
  {
   "cell_type": "markdown",
   "metadata": {
    "id": "-ohVGLUWmHJN"
   },
   "source": [
    "### Prepare training data as numpy arrays\n",
    "\n",
    "Next we have to encode the snippets as one-hot vectors over the alphabet and\n",
    "represent them as `numpy` arrays. Ultimately,\n",
    "we do this for all files in a specified folder. But first the vectorization of a sample:"
   ]
  },
  {
   "cell_type": "code",
   "execution_count": 8,
   "metadata": {
    "id": "weska_xsusUu"
   },
   "outputs": [],
   "source": [
    "def turn_sample_to_vector(sample, sample_vectors_size=1024,\n",
    "                          normalize_whitespace=True):\n",
    "  if normalize_whitespace:\n",
    "    # Map (most) white-space to space and compact to single one:\n",
    "    sample = sample.replace('\\n', ' ').replace('\\r', ' ').replace('\\t', ' ')\n",
    "    sample = re.sub('\\s+', ' ', sample)\n",
    "\n",
    "  # Encode the characters to one-hot vectors:\n",
    "  sample_vectors = []\n",
    "  for ch in sample:\n",
    "    if ch in supported_chars_map:\n",
    "      sample_vectors.append(supported_chars_map[ch])\n",
    "\n",
    "  # Truncate to fixed length:\n",
    "  sample_vectors = sample_vectors[0:sample_vectors_size]\n",
    "\n",
    "  # Pad with 0 vectors:\n",
    "  if len(sample_vectors) < sample_vectors_size:\n",
    "    for i in range(0, sample_vectors_size - len(sample_vectors)):\n",
    "      sample_vectors.append(pad_vector)\n",
    "\n",
    "  return np.array(sample_vectors)"
   ]
  },
  {
   "cell_type": "code",
   "execution_count": 9,
   "metadata": {
    "colab": {
     "base_uri": "https://localhost:8080/"
    },
    "id": "Dy9_ReRuvkzK",
    "outputId": "5805b740-7b25-4400-898c-7cb1cea6ffb4"
   },
   "outputs": [
    {
     "name": "stdout",
     "output_type": "stream",
     "text": [
      "Encoded sample shape: (10, 68)\n"
     ]
    }
   ],
   "source": [
    "sample = get_source_snippets('data/train/Haskell/s084836192.hs')[0]\n",
    "vec = turn_sample_to_vector(sample, sample_vectors_size=10)\n",
    "print('Encoded sample shape:', vec.shape)"
   ]
  },
  {
   "cell_type": "markdown",
   "metadata": {
    "id": "Y1J7o6vTwqAk"
   },
   "source": [
    "Now do this for a whole file instead of a sample:"
   ]
  },
  {
   "cell_type": "code",
   "execution_count": 10,
   "metadata": {
    "id": "FXVbYeaQwtkl"
   },
   "outputs": [],
   "source": [
    "def turn_file_to_vectors(file_name, sample_vectors_size=1024,\n",
    "                         normalize_whitespace=True, breakup=True):\n",
    "  samples = get_source_snippets(file_name, breakup)\n",
    "  return [turn_sample_to_vector(s, sample_vectors_size, normalize_whitespace)\n",
    "          for s in samples]"
   ]
  },
  {
   "cell_type": "markdown",
   "metadata": {
    "id": "REi5x9-TxnJu"
   },
   "source": [
    "Lastly, pair the vectorized samples with their class labels:"
   ]
  },
  {
   "cell_type": "code",
   "execution_count": 11,
   "metadata": {
    "id": "zrz3sh2KxxkE"
   },
   "outputs": [],
   "source": [
    "def get_input_and_labels(root_folder, sample_vectors_size=1024, breakup=True):\n",
    "  X = []\n",
    "  Y = []\n",
    "  for i, lang in enumerate(langs):\n",
    "    print('Processing language:', lang)\n",
    "    # One-hot class label vector:\n",
    "    class_label = [0 for x in range(0, num_classes)]\n",
    "    class_label[i] = 1\n",
    "    # For all files in language folder:\n",
    "    folder = os.path.join(root_folder, lang)\n",
    "    for fn in os.listdir(folder):\n",
    "      if fn.startswith(\".\"):\n",
    "        continue  # Skip hidden files and Jupyterlab cache directories\n",
    "      file_name = os.path.join(folder, fn)\n",
    "      sample_vectors = turn_file_to_vectors(file_name,\n",
    "                                            sample_vectors_size=sample_vectors_size,\n",
    "                                            breakup=breakup)\n",
    "      for fv in sample_vectors:\n",
    "        X.append(fv)                 # the sample feature vector\n",
    "        Y.append(class_label)        # the class ground-truth\n",
    "\n",
    "  return np.array(X, dtype=np.int8), np.array(Y, dtype=np.int8)"
   ]
  },
  {
   "cell_type": "markdown",
   "metadata": {
    "id": "C2L6t9o_09q3"
   },
   "source": [
    "Now we can get all the training data in numpy arrays. For good measure we shuffle all the samples. Notice that the number of samples turns out to be 2098; starting from 900 source files it is obvious that not every file is split in 3."
   ]
  },
  {
   "cell_type": "code",
   "execution_count": 12,
   "metadata": {
    "colab": {
     "base_uri": "https://localhost:8080/"
    },
    "id": "aPa5tyR10EVY",
    "outputId": "6e679775-04d3-4a22-e914-124c7af21044"
   },
   "outputs": [
    {
     "name": "stdout",
     "output_type": "stream",
     "text": [
      "Processing language: C\n",
      "Processing language: C#\n",
      "Processing language: C++\n",
      "Processing language: D\n",
      "Processing language: Haskell\n",
      "Processing language: Java\n",
      "Processing language: JavaScript\n",
      "Processing language: PHP\n",
      "Processing language: Python\n",
      "Processing language: Rust\n",
      "samples shape (2098, 1024, 68)\n",
      "class labels shape: (2098, 10)\n"
     ]
    }
   ],
   "source": [
    "x, y = get_input_and_labels(root_folder='data/train')\n",
    "\n",
    "# Shuffle data\n",
    "shuffle_indices = np.random.permutation(np.arange(len(y)))\n",
    "x_shuffled = x[shuffle_indices]\n",
    "y_shuffled = y[shuffle_indices]\n",
    "\n",
    "print('samples shape', x_shuffled.shape)\n",
    "print('class labels shape:', y_shuffled.shape)"
   ]
  },
  {
   "cell_type": "markdown",
   "metadata": {
    "id": "WzJqlvO42QYB"
   },
   "source": [
    "## Model\n",
    "\n",
    "A (batch of) encoded sample(s) is simultaneously input to 3 slightly different\n",
    "convolutional stages. Each stage consists of a 1-dimensional convolution\n",
    "followed by a 1-dimensional max pooling layer topped off by a flattening layer.\n",
    "The  kernel sizes of the stages are all different but the number of filters is\n",
    "the same. The 3 stages are concatenated followed by 2 dense layers with a\n",
    "dropout inbetween and lastly a softmax. The model summary does not show the nested model structure. `plot_model` however shows a nice graphical rendition of all the layers."
   ]
  },
  {
   "cell_type": "code",
   "execution_count": 13,
   "metadata": {
    "colab": {
     "base_uri": "https://localhost:8080/",
     "height": 862
    },
    "id": "hnRwAi_K2Zuu",
    "outputId": "265caa05-f2c2-4d6a-98ba-dd426827b4ea"
   },
   "outputs": [
    {
     "name": "stdout",
     "output_type": "stream",
     "text": [
      "Model: \"sequential\"\n",
      "_________________________________________________________________\n",
      "Layer (type)                 Output Shape              Param #   \n",
      "=================================================================\n",
      "model (Functional)           (None, 64512)             270208    \n",
      "_________________________________________________________________\n",
      "dense (Dense)                (None, 128)               8257664   \n",
      "_________________________________________________________________\n",
      "dropout (Dropout)            (None, 128)               0         \n",
      "_________________________________________________________________\n",
      "dense_1 (Dense)              (None, 10)                1290      \n",
      "=================================================================\n",
      "Total params: 8,529,162\n",
      "Trainable params: 8,529,162\n",
      "Non-trainable params: 0\n",
      "_________________________________________________________________\n"
     ]
    }
   ],
   "source": [
    "from tensorflow.keras.models import Sequential, Model\n",
    "from tensorflow.keras.layers import Activation, Dense, Dropout, Flatten, Input\n",
    "from tensorflow.keras.layers import Conv1D, MaxPooling1D, Concatenate\n",
    "\n",
    "# Model Hyperparameters\n",
    "kernel_sizes = (3, 9, 19)\n",
    "pooling_sizes = (3, 9, 19)\n",
    "num_filters = 128\n",
    "dropout_prob = 0.5\n",
    "hidden_dims = 128\n",
    "\n",
    "stage_in = Input(shape=(1024, 68))\n",
    "convs = []\n",
    "for i in range(0, len(kernel_sizes)):\n",
    "  conv = Conv1D(filters=num_filters,\n",
    "                kernel_size=kernel_sizes[i],\n",
    "                padding='valid',\n",
    "                activation='relu',\n",
    "                strides=1)(stage_in)\n",
    "  pool = MaxPooling1D(pool_size=pooling_sizes[i])(conv)\n",
    "  flatten = Flatten()(pool)\n",
    "  convs.append(flatten)\n",
    "\n",
    "if len(kernel_sizes) > 1:\n",
    "    out = Concatenate()(convs)\n",
    "else:\n",
    "    out = convs[0]\n",
    "\n",
    "stages = Model(inputs=stage_in, outputs=out)\n",
    "\n",
    "model = Sequential([\n",
    "    stages,\n",
    "    Dense(hidden_dims, activation='relu'),\n",
    "    Dropout(dropout_prob),\n",
    "    Dense(num_classes, activation='softmax')\n",
    "])\n",
    "\n",
    "model.summary()\n",
    "\n",
    "# Note: also need pydot and GraphViz installed for this.\n",
    "#from tensorflow.keras.utils import plot_model                               \n",
    "#plot_model(model, show_shapes=True, expand_nested=True)"
   ]
  },
  {
   "cell_type": "markdown",
   "metadata": {
    "id": "cBSSZjn_CV9p"
   },
   "source": [
    "## Training\n",
    "\n",
    "The 2098 samples with their ground truth (the class labels, i.e., the 10\n",
    "languages) are fed into the model. This constitutes one so-called epoch. To\n",
    "achieve a reasonable accuracy we have to train for several epochs. To speed\n",
    "things up, the samples are bundled in batches.\n",
    "Of the samples used in training, 10% are reserved for the validation step\n",
    "after each epoch. In our case that leaves 1888 for training and given a batch\n",
    "size of 64, one epoch then comprises some 30 batches.\n",
    "First the model is compiled and then we train it. If possible you should execute the `fit` call using a GPU. Otherwise, sit back and get yourself a cup of coffee."
   ]
  },
  {
   "cell_type": "code",
   "execution_count": 14,
   "metadata": {
    "colab": {
     "base_uri": "https://localhost:8080/"
    },
    "id": "NCvEE3z5CenC",
    "outputId": "b3c6055d-ac84-445d-a233-02eef4a69366"
   },
   "outputs": [
    {
     "name": "stdout",
     "output_type": "stream",
     "text": [
      "Epoch 1/20\n",
      "30/30 [==============================] - 9s 272ms/step - loss: 3.1514 - accuracy: 0.1509 - val_loss: 2.0753 - val_accuracy: 0.1952\n",
      "Epoch 2/20\n",
      "30/30 [==============================] - 7s 249ms/step - loss: 1.9900 - accuracy: 0.2388 - val_loss: 1.8622 - val_accuracy: 0.3667\n",
      "Epoch 3/20\n",
      "30/30 [==============================] - 8s 256ms/step - loss: 1.7247 - accuracy: 0.3504 - val_loss: 1.5000 - val_accuracy: 0.6429\n",
      "Epoch 4/20\n",
      "30/30 [==============================] - 8s 253ms/step - loss: 1.3836 - accuracy: 0.5054 - val_loss: 1.0289 - val_accuracy: 0.7810\n",
      "Epoch 5/20\n",
      "30/30 [==============================] - 8s 254ms/step - loss: 1.0144 - accuracy: 0.6465 - val_loss: 0.6720 - val_accuracy: 0.8667\n",
      "Epoch 6/20\n",
      "30/30 [==============================] - 8s 254ms/step - loss: 0.8097 - accuracy: 0.6902 - val_loss: 0.4609 - val_accuracy: 0.9000\n",
      "Epoch 7/20\n",
      "30/30 [==============================] - 8s 258ms/step - loss: 0.6139 - accuracy: 0.7814 - val_loss: 0.3092 - val_accuracy: 0.9048\n",
      "Epoch 8/20\n",
      "30/30 [==============================] - 8s 254ms/step - loss: 0.4324 - accuracy: 0.8440 - val_loss: 0.2224 - val_accuracy: 0.9476\n",
      "Epoch 9/20\n",
      "30/30 [==============================] - 8s 281ms/step - loss: 0.4034 - accuracy: 0.8628 - val_loss: 0.1994 - val_accuracy: 0.9524\n",
      "Epoch 10/20\n",
      "30/30 [==============================] - 9s 301ms/step - loss: 0.3168 - accuracy: 0.8740 - val_loss: 0.1502 - val_accuracy: 0.9714\n",
      "Epoch 11/20\n",
      "30/30 [==============================] - 10s 319ms/step - loss: 0.2694 - accuracy: 0.8964 - val_loss: 0.1588 - val_accuracy: 0.9571\n",
      "Epoch 12/20\n",
      "30/30 [==============================] - 10s 324ms/step - loss: 0.2591 - accuracy: 0.8971 - val_loss: 0.1380 - val_accuracy: 0.9714\n",
      "Epoch 13/20\n",
      "30/30 [==============================] - 10s 321ms/step - loss: 0.2202 - accuracy: 0.9193 - val_loss: 0.1227 - val_accuracy: 0.9810\n",
      "Epoch 14/20\n",
      "30/30 [==============================] - 9s 287ms/step - loss: 0.2079 - accuracy: 0.9193 - val_loss: 0.1031 - val_accuracy: 0.9810\n",
      "Epoch 15/20\n",
      "30/30 [==============================] - 9s 285ms/step - loss: 0.2388 - accuracy: 0.9047 - val_loss: 0.1021 - val_accuracy: 0.9762\n",
      "Epoch 16/20\n",
      "30/30 [==============================] - 8s 281ms/step - loss: 0.1923 - accuracy: 0.9193 - val_loss: 0.1112 - val_accuracy: 0.9714\n",
      "Epoch 17/20\n",
      "30/30 [==============================] - 9s 284ms/step - loss: 0.1942 - accuracy: 0.9215 - val_loss: 0.1064 - val_accuracy: 0.9667\n",
      "Epoch 18/20\n",
      "30/30 [==============================] - 8s 283ms/step - loss: 0.1952 - accuracy: 0.9241 - val_loss: 0.0764 - val_accuracy: 0.9762\n",
      "Epoch 19/20\n",
      "30/30 [==============================] - 9s 292ms/step - loss: 0.1541 - accuracy: 0.9419 - val_loss: 0.0899 - val_accuracy: 0.9810\n",
      "Epoch 20/20\n",
      "30/30 [==============================] - 9s 291ms/step - loss: 0.1565 - accuracy: 0.9354 - val_loss: 0.1118 - val_accuracy: 0.9714\n"
     ]
    }
   ],
   "source": [
    "batch_size = 64\n",
    "num_epochs = 20\n",
    "val_split = 0.1\n",
    "\n",
    "model.compile(loss='categorical_crossentropy', optimizer='adam',\n",
    "              metrics=['accuracy'])\n",
    "\n",
    "history = model.fit(x_shuffled, y_shuffled, batch_size=batch_size,\n",
    "                    epochs=num_epochs, validation_split=val_split,\n",
    "                    verbose=1)"
   ]
  },
  {
   "cell_type": "markdown",
   "metadata": {
    "id": "Nl_y6j_vEfK9"
   },
   "source": [
    "It is illustrative to chart the training process. The `history` contains all\n",
    "the information that we need."
   ]
  },
  {
   "cell_type": "code",
   "execution_count": 15,
   "metadata": {
    "colab": {
     "base_uri": "https://localhost:8080/",
     "height": 337
    },
    "id": "iBiHBmI-Ehr_",
    "outputId": "12a19474-7a78-45cb-e795-8d4b7428f0d7"
   },
   "outputs": [
    {
     "data": {
      "image/png": "[encoded data removed]",
      "text/plain": [
       "<Figure size 864x360 with 2 Axes>"
      ]
     },
     "metadata": {},
     "output_type": "display_data"
    }
   ],
   "source": [
    "import matplotlib.pyplot as plt\n",
    "plt.style.use('ggplot')\n",
    "\n",
    "def plot_history(history):\n",
    "  acc = history.history['accuracy']\n",
    "  val_acc = history.history['val_accuracy']\n",
    "  loss = history.history['loss']\n",
    "  val_loss = history.history['val_loss']\n",
    "  x = range(1, len(acc) + 1)\n",
    "\n",
    "  plt.figure(figsize=(12, 5))\n",
    "  plt.subplot(1, 2, 1)\n",
    "  plt.plot(x, acc, 'b', label='Training acc')\n",
    "  plt.plot(x, val_acc, 'r', label='Validation acc')\n",
    "  plt.title('Training and validation accuracy')\n",
    "  plt.legend()\n",
    "  plt.subplot(1, 2, 2)\n",
    "  plt.plot(x, loss, 'b', label='Training loss')\n",
    "  plt.plot(x, val_loss, 'r', label='Validation loss')\n",
    "  plt.title('Training and validation loss')\n",
    "  plt.legend()\n",
    "  plt.show()\n",
    "\n",
    "plot_history(history)"
   ]
  },
  {
   "cell_type": "markdown",
   "metadata": {
    "id": "0OJVXeXwIb0U"
   },
   "source": [
    "## Test\n",
    "\n",
    "Finally, let's exercise our mint new model and see how it performs on a set of\n",
    "samples hitherto unseen, in other words predict the language of the test set.\n",
    "We re-use the `get_input_and_labels` and have it process all files in the\n",
    "`test` directory. We predict the outcome of each sample and compare it against\n",
    "the expected label (language)."
   ]
  },
  {
   "cell_type": "code",
   "execution_count": 16,
   "metadata": {
    "colab": {
     "base_uri": "https://localhost:8080/"
    },
    "id": "gQawmBrRIjG8",
    "outputId": "1fa488a0-0fa3-4609-b8b1-c7985f858d00"
   },
   "outputs": [
    {
     "name": "stdout",
     "output_type": "stream",
     "text": [
      "Processing language: C\n",
      "Processing language: C#\n",
      "Processing language: C++\n",
      "Processing language: D\n",
      "Processing language: Haskell\n",
      "Processing language: Java\n",
      "Processing language: JavaScript\n",
      "Processing language: PHP\n",
      "Processing language: Python\n",
      "Processing language: Rust\n",
      "shape of test samples (100, 1024, 68)\n"
     ]
    }
   ],
   "source": [
    "x, y = get_input_and_labels(root_folder='data/test', breakup=False)\n",
    "print('shape of test samples', x.shape)\n",
    "y_hat = model.predict(x)"
   ]
  },
  {
   "cell_type": "markdown",
   "metadata": {
    "id": "Oyfbx8CMT7o_"
   },
   "source": [
    "Here is a very simple evaluation of the model. For each language we count the number of correct prediction, i.e., the softmax output with the highest probability (viz. `argmax`):"
   ]
  },
  {
   "cell_type": "code",
   "execution_count": 17,
   "metadata": {
    "colab": {
     "base_uri": "https://localhost:8080/"
    },
    "id": "jF5sKu52PhxD",
    "outputId": "99943b29-ab28-461b-edfc-2d03057f9d25"
   },
   "outputs": [
    {
     "name": "stdout",
     "output_type": "stream",
     "text": [
      "C         :  10 correct\n",
      "C#        :  10 correct\n",
      "C++       :   9 correct\n",
      "D         :  10 correct\n",
      "Haskell   :  10 correct\n",
      "Java      :  10 correct\n",
      "JavaScript:  10 correct\n",
      "PHP       :  10 correct\n",
      "Python    :  10 correct\n",
      "Rust      :  10 correct\n"
     ]
    }
   ],
   "source": [
    "hits = {}\n",
    "for lang in langs:\n",
    "  hits[lang] = 0\n",
    "\n",
    "for i in range(len(x)):\n",
    "  expected_lang  = langs[np.argmax(y[i], axis=0)]\n",
    "  predicted_lang = langs[np.argmax(y_hat[i], axis=0)]\n",
    "  if predicted_lang == expected_lang:\n",
    "    hits[expected_lang] += 1\n",
    "\n",
    "for lang in langs:\n",
    "  print(\"%-10s: %3d correct\" % (lang, hits[lang])) "
   ]
  },
  {
   "cell_type": "markdown",
   "metadata": {
    "id": "NwQQbaIgUm0c"
   },
   "source": [
    "### Home work\n",
    "\n",
    "Find out which test files are incorrectly predicted, and as what? Also, do a more thorough analysis and print the precision, recall, and F1 score of each class."
   ]
  },
  {
   "cell_type": "markdown",
   "metadata": {
    "id": "tCTepYLlnQF1"
   },
   "source": [
    "## Acknowledgement\n",
    "\n",
    "The idea and much of the Python source code for this notebook was derived from the github https://github.com/aliostad/deep-learning-lang-detection by Ali Kheyrollahi."
   ]
  }
 ],
 "metadata": {
  "accelerator": "GPU",
  "colab": {
   "collapsed_sections": [],
   "name": "Project_CodeNet_LangClass.ipynb",
   "provenance": []
  },
  "kernelspec": {
   "display_name": "Python 3",
   "language": "python",
   "name": "python3"
  },
  "language_info": {
   "codemirror_mode": {
    "name": "ipython",
    "version": 3
   },
   "file_extension": ".py",
   "mimetype": "text/x-python",
   "name": "python",
   "nbconvert_exporter": "python",
   "pygments_lexer": "ipython3",
   "version": "3.7.10"
  }
 },
 "nbformat": 4,
 "nbformat_minor": 4
}
